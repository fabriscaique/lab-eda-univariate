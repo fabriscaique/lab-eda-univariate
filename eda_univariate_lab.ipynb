{
 "cells": [
  {
   "cell_type": "markdown",
   "id": "4408065a-dbf0-4c66-8887-9c0d0cb79b5c",
   "metadata": {},
   "source": [
    "<h1 style=\"color: #FF8C00;\">Univariate Analysis: Diving into Amazon UK Product Insights</h1>"
   ]
  },
  {
   "cell_type": "markdown",
   "id": "835da432-1b47-454e-9f21-5757fa7a4626",
   "metadata": {},
   "source": [
    "**Objective**: Explore the product listing dynamics on Amazon UK to extract actionable business insights. By understanding the distribution, central tendencies, and relationships of various product attributes, businesses can make more informed decisions on product positioning, pricing strategies, and inventory management.\n",
    "\n",
    "**Dataset**: This lab utilizes the Amazon UK product dataset which provides information on product categories, brands, prices, ratings, and more from from Amazon UK. You'll need to download it to start working with it."
   ]
  },
  {
   "cell_type": "markdown",
   "id": "c6d58051-5238-4a8f-a5d1-126b090a91f4",
   "metadata": {
    "jp-MarkdownHeadingCollapsed": true
   },
   "source": [
    "## Libraries"
   ]
  },
  {
   "cell_type": "code",
   "execution_count": 37,
   "id": "5c8db9ef-1cc3-4d6f-aa52-08651933dc44",
   "metadata": {},
   "outputs": [],
   "source": [
    "import numpy as np\n",
    "import pandas as pd\n",
    "import matplotlib.pyplot as plt\n",
    "import seaborn as sns"
   ]
  },
  {
   "cell_type": "markdown",
   "id": "455dc7f2-9584-4399-8eea-c04cf91ff6fa",
   "metadata": {
    "jp-MarkdownHeadingCollapsed": true
   },
   "source": [
    "---\n",
    "\n",
    "## 00 | Data Extraction and Wrangling"
   ]
  },
  {
   "cell_type": "markdown",
   "id": "301249d5-47d1-4b1d-9d34-167db53e48a6",
   "metadata": {},
   "source": [
    "00.01 | Extraction"
   ]
  },
  {
   "cell_type": "code",
   "execution_count": 2,
   "id": "4b3adf98-24d0-4fa3-aad4-0df9c12e4402",
   "metadata": {},
   "outputs": [],
   "source": [
    "draft = pd.read_csv('amz_uk_price_dataset.csv')"
   ]
  },
  {
   "cell_type": "code",
   "execution_count": 3,
   "id": "0bae4d4f-1c12-48db-bce6-4f121509dcae",
   "metadata": {},
   "outputs": [
    {
     "data": {
      "text/html": [
       "<div>\n",
       "<style scoped>\n",
       "    .dataframe tbody tr th:only-of-type {\n",
       "        vertical-align: middle;\n",
       "    }\n",
       "\n",
       "    .dataframe tbody tr th {\n",
       "        vertical-align: top;\n",
       "    }\n",
       "\n",
       "    .dataframe thead th {\n",
       "        text-align: right;\n",
       "    }\n",
       "</style>\n",
       "<table border=\"1\" class=\"dataframe\">\n",
       "  <thead>\n",
       "    <tr style=\"text-align: right;\">\n",
       "      <th></th>\n",
       "      <th>uid</th>\n",
       "      <th>asin</th>\n",
       "      <th>title</th>\n",
       "      <th>stars</th>\n",
       "      <th>reviews</th>\n",
       "      <th>price</th>\n",
       "      <th>isBestSeller</th>\n",
       "      <th>boughtInLastMonth</th>\n",
       "      <th>category</th>\n",
       "    </tr>\n",
       "  </thead>\n",
       "  <tbody>\n",
       "    <tr>\n",
       "      <th>0</th>\n",
       "      <td>1</td>\n",
       "      <td>B09B96TG33</td>\n",
       "      <td>Echo Dot (5th generation, 2022 release) | Big ...</td>\n",
       "      <td>4.7</td>\n",
       "      <td>15308</td>\n",
       "      <td>21.99</td>\n",
       "      <td>False</td>\n",
       "      <td>0</td>\n",
       "      <td>Hi-Fi Speakers</td>\n",
       "    </tr>\n",
       "    <tr>\n",
       "      <th>1</th>\n",
       "      <td>2</td>\n",
       "      <td>B01HTH3C8S</td>\n",
       "      <td>Anker Soundcore mini, Super-Portable Bluetooth...</td>\n",
       "      <td>4.7</td>\n",
       "      <td>98099</td>\n",
       "      <td>23.99</td>\n",
       "      <td>True</td>\n",
       "      <td>0</td>\n",
       "      <td>Hi-Fi Speakers</td>\n",
       "    </tr>\n",
       "    <tr>\n",
       "      <th>2</th>\n",
       "      <td>3</td>\n",
       "      <td>B09B8YWXDF</td>\n",
       "      <td>Echo Dot (5th generation, 2022 release) | Big ...</td>\n",
       "      <td>4.7</td>\n",
       "      <td>15308</td>\n",
       "      <td>21.99</td>\n",
       "      <td>False</td>\n",
       "      <td>0</td>\n",
       "      <td>Hi-Fi Speakers</td>\n",
       "    </tr>\n",
       "    <tr>\n",
       "      <th>3</th>\n",
       "      <td>4</td>\n",
       "      <td>B09B8T5VGV</td>\n",
       "      <td>Echo Dot with clock (5th generation, 2022 rele...</td>\n",
       "      <td>4.7</td>\n",
       "      <td>7205</td>\n",
       "      <td>31.99</td>\n",
       "      <td>False</td>\n",
       "      <td>0</td>\n",
       "      <td>Hi-Fi Speakers</td>\n",
       "    </tr>\n",
       "    <tr>\n",
       "      <th>4</th>\n",
       "      <td>5</td>\n",
       "      <td>B09WX6QD65</td>\n",
       "      <td>Introducing Echo Pop | Full sound compact Wi-F...</td>\n",
       "      <td>4.6</td>\n",
       "      <td>1881</td>\n",
       "      <td>17.99</td>\n",
       "      <td>False</td>\n",
       "      <td>0</td>\n",
       "      <td>Hi-Fi Speakers</td>\n",
       "    </tr>\n",
       "  </tbody>\n",
       "</table>\n",
       "</div>"
      ],
      "text/plain": [
       "   uid        asin                                              title  stars  \\\n",
       "0    1  B09B96TG33  Echo Dot (5th generation, 2022 release) | Big ...    4.7   \n",
       "1    2  B01HTH3C8S  Anker Soundcore mini, Super-Portable Bluetooth...    4.7   \n",
       "2    3  B09B8YWXDF  Echo Dot (5th generation, 2022 release) | Big ...    4.7   \n",
       "3    4  B09B8T5VGV  Echo Dot with clock (5th generation, 2022 rele...    4.7   \n",
       "4    5  B09WX6QD65  Introducing Echo Pop | Full sound compact Wi-F...    4.6   \n",
       "\n",
       "   reviews  price  isBestSeller  boughtInLastMonth        category  \n",
       "0    15308  21.99         False                  0  Hi-Fi Speakers  \n",
       "1    98099  23.99          True                  0  Hi-Fi Speakers  \n",
       "2    15308  21.99         False                  0  Hi-Fi Speakers  \n",
       "3     7205  31.99         False                  0  Hi-Fi Speakers  \n",
       "4     1881  17.99         False                  0  Hi-Fi Speakers  "
      ]
     },
     "execution_count": 3,
     "metadata": {},
     "output_type": "execute_result"
    }
   ],
   "source": [
    "draft.head()"
   ]
  },
  {
   "cell_type": "code",
   "execution_count": 4,
   "id": "934a7379-afea-45b6-8f6b-242ede4a2155",
   "metadata": {},
   "outputs": [
    {
     "name": "stdout",
     "output_type": "stream",
     "text": [
      "<class 'pandas.core.frame.DataFrame'>\n",
      "RangeIndex: 2443651 entries, 0 to 2443650\n",
      "Data columns (total 9 columns):\n",
      " #   Column             Dtype  \n",
      "---  ------             -----  \n",
      " 0   uid                int64  \n",
      " 1   asin               object \n",
      " 2   title              object \n",
      " 3   stars              float64\n",
      " 4   reviews            int64  \n",
      " 5   price              float64\n",
      " 6   isBestSeller       bool   \n",
      " 7   boughtInLastMonth  int64  \n",
      " 8   category           object \n",
      "dtypes: bool(1), float64(2), int64(3), object(3)\n",
      "memory usage: 151.5+ MB\n"
     ]
    }
   ],
   "source": [
    "draft.info()"
   ]
  },
  {
   "cell_type": "markdown",
   "id": "be571ce3-10a9-499e-9132-101516e730ad",
   "metadata": {},
   "source": [
    "00.02 | Wrangling"
   ]
  },
  {
   "cell_type": "code",
   "execution_count": 5,
   "id": "da1f75f5-65c2-4b7c-af61-073e59b29eb2",
   "metadata": {},
   "outputs": [],
   "source": [
    "draft.set_index('uid', inplace=True) # uid looks like previous index"
   ]
  },
  {
   "cell_type": "code",
   "execution_count": 6,
   "id": "6f1f1299-d222-4c13-8435-d9ce188fd4a8",
   "metadata": {},
   "outputs": [
    {
     "data": {
      "text/plain": [
       "asin                 0\n",
       "title                0\n",
       "stars                0\n",
       "reviews              0\n",
       "price                0\n",
       "isBestSeller         0\n",
       "boughtInLastMonth    0\n",
       "category             0\n",
       "dtype: int64"
      ]
     },
     "execution_count": 6,
     "metadata": {},
     "output_type": "execute_result"
    }
   ],
   "source": [
    "draft.isna().sum()"
   ]
  },
  {
   "cell_type": "code",
   "execution_count": 7,
   "id": "00542842-83cf-4c4c-9d53-09cd4686c442",
   "metadata": {},
   "outputs": [
    {
     "data": {
      "text/plain": [
       "0"
      ]
     },
     "execution_count": 7,
     "metadata": {},
     "output_type": "execute_result"
    }
   ],
   "source": [
    "draft.duplicated().sum()"
   ]
  },
  {
   "cell_type": "code",
   "execution_count": 8,
   "id": "1e745494-1e28-408a-9091-d5e0f3aecb8d",
   "metadata": {},
   "outputs": [
    {
     "data": {
      "text/plain": [
       "asin                 0\n",
       "title                0\n",
       "stars                0\n",
       "reviews              0\n",
       "price                0\n",
       "isBestSeller         0\n",
       "boughtInLastMonth    0\n",
       "category             0\n",
       "dtype: int64"
      ]
     },
     "execution_count": 8,
     "metadata": {},
     "output_type": "execute_result"
    }
   ],
   "source": [
    "draft.eq(' ').sum()"
   ]
  },
  {
   "cell_type": "markdown",
   "id": "ee3414f5-f945-4d79-8b7d-1a9acdff9939",
   "metadata": {},
   "source": [
    "00.03 | Initial Dataframe"
   ]
  },
  {
   "cell_type": "code",
   "execution_count": 9,
   "id": "8e7df0c8-156b-40f0-a1a4-316e1b6a144c",
   "metadata": {},
   "outputs": [],
   "source": [
    "df = draft.copy()"
   ]
  },
  {
   "cell_type": "markdown",
   "id": "1e80f02b-fc15-462f-a43a-80afcd2d78e4",
   "metadata": {
    "jp-MarkdownHeadingCollapsed": true
   },
   "source": [
    "---\n",
    "\n",
    "## Part 1: Understanding Product Categories\n",
    "**Business Question**: What are the most popular product categories on Amazon UK, and how do they compare in terms of listing frequency?"
   ]
  },
  {
   "cell_type": "markdown",
   "id": "924729a1-f77c-45f4-83d3-85e7efd5b43f",
   "metadata": {},
   "source": [
    "1.1 | Frequency Tables\n",
    "\n",
    "Generate a frequency table for the product category. Which are the **top 5** most listed product categories?"
   ]
  },
  {
   "cell_type": "code",
   "execution_count": 10,
   "id": "dbb165a2-ad71-4a76-8e41-06aaec81d182",
   "metadata": {},
   "outputs": [
    {
     "data": {
      "text/html": [
       "<div>\n",
       "<style scoped>\n",
       "    .dataframe tbody tr th:only-of-type {\n",
       "        vertical-align: middle;\n",
       "    }\n",
       "\n",
       "    .dataframe tbody tr th {\n",
       "        vertical-align: top;\n",
       "    }\n",
       "\n",
       "    .dataframe thead th {\n",
       "        text-align: right;\n",
       "    }\n",
       "</style>\n",
       "<table border=\"1\" class=\"dataframe\">\n",
       "  <thead>\n",
       "    <tr style=\"text-align: right;\">\n",
       "      <th></th>\n",
       "      <th>category</th>\n",
       "      <th>count</th>\n",
       "    </tr>\n",
       "  </thead>\n",
       "  <tbody>\n",
       "    <tr>\n",
       "      <th>0</th>\n",
       "      <td>Sports &amp; Outdoors</td>\n",
       "      <td>836265</td>\n",
       "    </tr>\n",
       "    <tr>\n",
       "      <th>1</th>\n",
       "      <td>Beauty</td>\n",
       "      <td>19312</td>\n",
       "    </tr>\n",
       "    <tr>\n",
       "      <th>2</th>\n",
       "      <td>Handmade Clothing, Shoes &amp; Accessories</td>\n",
       "      <td>19229</td>\n",
       "    </tr>\n",
       "    <tr>\n",
       "      <th>3</th>\n",
       "      <td>Bath &amp; Body</td>\n",
       "      <td>19092</td>\n",
       "    </tr>\n",
       "    <tr>\n",
       "      <th>4</th>\n",
       "      <td>Birthday Gifts</td>\n",
       "      <td>18978</td>\n",
       "    </tr>\n",
       "  </tbody>\n",
       "</table>\n",
       "</div>"
      ],
      "text/plain": [
       "                                 category   count\n",
       "0                       Sports & Outdoors  836265\n",
       "1                                  Beauty   19312\n",
       "2  Handmade Clothing, Shoes & Accessories   19229\n",
       "3                             Bath & Body   19092\n",
       "4                          Birthday Gifts   18978"
      ]
     },
     "execution_count": 10,
     "metadata": {},
     "output_type": "execute_result"
    }
   ],
   "source": [
    "top_cat = df['category'].value_counts().reset_index()[:5]\n",
    "top_cat"
   ]
  },
  {
   "cell_type": "markdown",
   "id": "24c9d17c-a733-4dd4-85b7-5e718945fc2b",
   "metadata": {},
   "source": [
    "1.2 | Visualizations\n",
    "\n",
    "Display the distribution of products across different categories using a bar chart. If you face problems understanding the chart, do it for a subset of top categories."
   ]
  },
  {
   "cell_type": "code",
   "execution_count": 11,
   "id": "5ff82f77-1511-4a38-a4d5-6abcb2895ca0",
   "metadata": {},
   "outputs": [],
   "source": [
    "categories = {\n",
    "    \"Sports & Outdoors\": \"Sports\",\n",
    "    \"Beauty\": \"Beauty\",\n",
    "    \"Handmade Clothing, Shoes & Accessories\": \"Handmade Clothes\",\n",
    "    \"Bath & Body\": \"Bath & Body\",\n",
    "    \"Birthday Gifts\": \"Birthday Gifts\"\n",
    "}\n",
    "\n",
    "top_cat['category'] = top_cat['category'].replace(categories)"
   ]
  },
  {
   "cell_type": "code",
   "execution_count": 12,
   "id": "70014986-9106-4cb6-ae82-d76a8aae90c1",
   "metadata": {},
   "outputs": [
    {
     "data": {
      "text/html": [
       "<div>\n",
       "<style scoped>\n",
       "    .dataframe tbody tr th:only-of-type {\n",
       "        vertical-align: middle;\n",
       "    }\n",
       "\n",
       "    .dataframe tbody tr th {\n",
       "        vertical-align: top;\n",
       "    }\n",
       "\n",
       "    .dataframe thead th {\n",
       "        text-align: right;\n",
       "    }\n",
       "</style>\n",
       "<table border=\"1\" class=\"dataframe\">\n",
       "  <thead>\n",
       "    <tr style=\"text-align: right;\">\n",
       "      <th></th>\n",
       "      <th>category</th>\n",
       "      <th>count</th>\n",
       "    </tr>\n",
       "  </thead>\n",
       "  <tbody>\n",
       "    <tr>\n",
       "      <th>0</th>\n",
       "      <td>Sports</td>\n",
       "      <td>836265</td>\n",
       "    </tr>\n",
       "    <tr>\n",
       "      <th>1</th>\n",
       "      <td>Beauty</td>\n",
       "      <td>19312</td>\n",
       "    </tr>\n",
       "    <tr>\n",
       "      <th>2</th>\n",
       "      <td>Handmade Clothes</td>\n",
       "      <td>19229</td>\n",
       "    </tr>\n",
       "    <tr>\n",
       "      <th>3</th>\n",
       "      <td>Bath &amp; Body</td>\n",
       "      <td>19092</td>\n",
       "    </tr>\n",
       "    <tr>\n",
       "      <th>4</th>\n",
       "      <td>Birthday Gifts</td>\n",
       "      <td>18978</td>\n",
       "    </tr>\n",
       "  </tbody>\n",
       "</table>\n",
       "</div>"
      ],
      "text/plain": [
       "           category   count\n",
       "0            Sports  836265\n",
       "1            Beauty   19312\n",
       "2  Handmade Clothes   19229\n",
       "3       Bath & Body   19092\n",
       "4    Birthday Gifts   18978"
      ]
     },
     "execution_count": 12,
     "metadata": {},
     "output_type": "execute_result"
    }
   ],
   "source": [
    "top_cat"
   ]
  },
  {
   "cell_type": "code",
   "execution_count": 13,
   "id": "2bd0c89c-df98-40cc-90e5-7b0caf4bc7cb",
   "metadata": {},
   "outputs": [
    {
     "data": {
      "image/png": "[encoded data removed]",
      "text/plain": [
       "<Figure size 1200x600 with 1 Axes>"
      ]
     },
     "metadata": {},
     "output_type": "display_data"
    }
   ],
   "source": [
    "colors = ['#FF6347', '#4682B4', '#32CD32', '#FFD700', '#8A2BE2']\n",
    "fig, ax = plt.subplots(figsize=(12, 6))\n",
    "\n",
    "bars = ax.bar(top_cat['category'], top_cat['count'], color=colors)\n",
    "ax.set_yscale('log') # So Sports don't stand out too much\n",
    "ax.set_ylim(10**3, 10**6) # Make it a bit more appealing to the eye\n",
    "ax.set_xlabel('Categories', fontsize=14)\n",
    "ax.set_ylabel('Listings (Log Scale)', fontsize=14)\n",
    "ax.set_title('Amazon UK Top Product Categories', fontsize=16, fontweight='bold')\n",
    "\n",
    "plt.xticks(rotation=45, ha='right', fontsize=12)\n",
    "\n",
    "plt.tight_layout()\n",
    "plt.show()"
   ]
  },
  {
   "cell_type": "markdown",
   "id": "2886825c-0478-43b7-beef-02c7d411d8f9",
   "metadata": {},
   "source": [
    "For a subset of top categories, visualize their proportions using a pie chart. Does any category dominate the listings?"
   ]
  },
  {
   "cell_type": "code",
   "execution_count": 14,
   "id": "b8cab55e-2c16-4e2f-8788-ed6c16871614",
   "metadata": {},
   "outputs": [
    {
     "data": {
      "text/plain": [
       "Text(0, 0.5, '')"
      ]
     },
     "execution_count": 14,
     "metadata": {},
     "output_type": "execute_result"
    },
    {
     "data": {
      "image/png": "[encoded data removed]",
      "text/plain": [
       "<Figure size 640x480 with 1 Axes>"
      ]
     },
     "metadata": {},
     "output_type": "display_data"
    }
   ],
   "source": [
    "top_cat.set_index('category')['count'].plot(\n",
    "    kind = 'pie',\n",
    "    autopct = '%1.1f%%',\n",
    "    colors = colors,\n",
    "    wedgeprops={'edgecolor': 'black', 'linewidth': 0.25}\n",
    ")\n",
    "plt.title('Amazon UK Top Product Categories')\n",
    "plt.ylabel('')"
   ]
  },
  {
   "cell_type": "markdown",
   "id": "38d9eeec-73e4-46fe-a578-03b9542ec34a",
   "metadata": {},
   "source": [
    "1.3 | Conclusion\n",
    "\n",
    "The product listings on Amazon UK is **heavily dominated by the \"Sports & Outdoors\" category**, which accounts for a staggering number of 836K listings, over 40 times more than any other category. The remaining four categories — Beauty, Handmade Clothes, Bath & Body, and Birthday Gifts — each contribute around 20,000 listings, showing a much smaller, but relatively equal, distribution among them. \n",
    "\n",
    "Basically, 9 out of 10 products listed on Amazon UK are from the Sports & Outdoors category.\n",
    "\n",
    "---"
   ]
  },
  {
   "cell_type": "markdown",
   "id": "d0a0b91e-0880-4a7c-a4b4-a5935330cbdb",
   "metadata": {
    "jp-MarkdownHeadingCollapsed": true
   },
   "source": [
    "---\n",
    "\n",
    "## Part 2: Delving into Product Pricing\n",
    "\n",
    "**Business Question**: How are products priced on Amazon UK, and are there specific price points or ranges that are more common?"
   ]
  },
  {
   "cell_type": "markdown",
   "id": "f66afef3-a658-4f4c-b344-d9154cbd0062",
   "metadata": {},
   "source": [
    "2.1 | Measures of Centrality\n",
    "\n",
    "- Calculate the mean, median, and mode for the price of products.\r",
    "- \n",
    "What's the average price point of products listed? How does this compare with the most common price point (mode)?"
   ]
  },
  {
   "cell_type": "code",
   "execution_count": 15,
   "id": "55c4027e-4506-438f-8c54-59bed853fb4e",
   "metadata": {},
   "outputs": [
    {
     "name": "stdout",
     "output_type": "stream",
     "text": [
      "The average price for Amazon UK products is £89.24\n"
     ]
    }
   ],
   "source": [
    "price_mean = df['price'].mean().round(2)\n",
    "print(f'The average price for Amazon UK products is £{price_mean}')"
   ]
  },
  {
   "cell_type": "code",
   "execution_count": 16,
   "id": "071aa3bb-7a08-42d3-9ed0-d14cfe8169b1",
   "metadata": {},
   "outputs": [
    {
     "name": "stdout",
     "output_type": "stream",
     "text": [
      "Half the products listed on Amazon UK cost up to £19.09\n"
     ]
    }
   ],
   "source": [
    "price_median = df['price'].median()\n",
    "print(f'Half the products listed on Amazon UK cost up to £{price_median}')"
   ]
  },
  {
   "cell_type": "code",
   "execution_count": 17,
   "id": "036801e7-fefe-4ee7-9a39-a51aacd80357",
   "metadata": {},
   "outputs": [
    {
     "name": "stdout",
     "output_type": "stream",
     "text": [
      "The most common price for Amazon UK products is £9.99\n"
     ]
    }
   ],
   "source": [
    "price_mode = df['price'].mode()[0]\n",
    "print(f'The most common price for Amazon UK products is £{price_mode}')"
   ]
  },
  {
   "cell_type": "markdown",
   "id": "91516889-36fe-4686-99f7-0b69b510cbe3",
   "metadata": {},
   "source": [
    "The average price of products listed on Amazon UK is £89.24, which is much higher than the most common price of £9.99. While £9.99 is the most frequent price, indicating that many products are priced lower, the high average suggests that a few high-priced items are significantly raising the overall mean. Additionally, half of the products are priced up to £19.09, showing that many listings are relatively affordable, but the presence of expensive products skews the average upward."
   ]
  },
  {
   "cell_type": "markdown",
   "id": "93fd6a51-a431-4d79-a637-3660add7b495",
   "metadata": {},
   "source": [
    "2.2 | Measures of Dispersion:\n",
    "\n",
    "- Determine the variance, standard deviation, range, and interquartile range for product price.\n",
    "- How varied are the product prices? Are there any indicators of a significant spread in prices?"
   ]
  },
  {
   "cell_type": "code",
   "execution_count": 18,
   "id": "a8f74c18-1d5d-4fa9-8e7e-15b03e133004",
   "metadata": {},
   "outputs": [
    {
     "name": "stdout",
     "output_type": "stream",
     "text": [
      "Variance is 119445.44\n"
     ]
    }
   ],
   "source": [
    "# I decided to manually calculate the variance just for fun (and to practice theoretical knowledge in Statistics)\n",
    "price_var = df['price'].apply(lambda x: (x - price_mean) ** 2).mean().round(2)\n",
    "print(f'Variance is {price_var}')"
   ]
  },
  {
   "cell_type": "code",
   "execution_count": 19,
   "id": "36f5b617-6904-4f3b-adab-556b30609534",
   "metadata": {},
   "outputs": [
    {
     "name": "stdout",
     "output_type": "stream",
     "text": [
      "Standard Deviation is 345.61\n"
     ]
    }
   ],
   "source": [
    "price_std = np.sqrt(price_var).round(2) # Again, manually calculating standard deviation\n",
    "print(f'Standard Deviation is {price_std}')"
   ]
  },
  {
   "cell_type": "code",
   "execution_count": 20,
   "id": "3d1e1654-7464-4e8f-92dd-697aa1880d5e",
   "metadata": {},
   "outputs": [
    {
     "name": "stdout",
     "output_type": "stream",
     "text": [
      "Prices range from £0.0 to £100000.0\n"
     ]
    }
   ],
   "source": [
    "price_range = (df['price'].max() - df['price'].min())\n",
    "print(f'Prices range from £{df['price'].min()} to £{df['price'].max()}')"
   ]
  },
  {
   "cell_type": "markdown",
   "id": "438434f6-3c85-4fc8-82d5-1bb6dd9c6c07",
   "metadata": {},
   "source": [
    "The prices in this dataset range from £0.0 to £100,000.0, which likely includes outliers and possible typographical errors. After a brief web comparison, it appears that some prices may not even be in the same currency, introducing further inconsistencies. However, without clear indicators or metadata for each currency, accurately identifying and correcting these discrepancies would require an intensive data-cleaning effort that falls beyond the scope of this lab."
   ]
  },
  {
   "cell_type": "code",
   "execution_count": 25,
   "id": "06c8162a-aba8-4239-a5b3-d437d2291e9a",
   "metadata": {},
   "outputs": [
    {
     "name": "stdout",
     "output_type": "stream",
     "text": [
      "First Quartile: £9.99\n",
      "Third Quartile: £45.99\n"
     ]
    }
   ],
   "source": [
    "Q1 = df['price'].quantile(0.25).round(2)\n",
    "Q3 = df['price'].quantile(0.75).round(2)\n",
    "print(f'First Quartile: £{Q1}\\nThird Quartile: £{Q3}')"
   ]
  },
  {
   "cell_type": "markdown",
   "id": "02a6b361-8226-4da5-be61-b68b7f3f94bc",
   "metadata": {},
   "source": [
    "2.3 | Visualizations:\n",
    "\n",
    "Is there a specific price range where most products fall? Plot a histogram to visualize the distribution of product prices. If its hard to read these diagrams, think why this is, and explain how it could be solved."
   ]
  },
  {
   "cell_type": "code",
   "execution_count": 63,
   "id": "5ef460a0-06ee-42e3-bfb8-ae44d701fd64",
   "metadata": {},
   "outputs": [
    {
     "data": {
      "image/png": "[encoded data removed]",
      "text/plain": [
       "<Figure size 1000x600 with 1 Axes>"
      ]
     },
     "metadata": {},
     "output_type": "display_data"
    }
   ],
   "source": [
    "plt.figure(figsize=(10, 6))\n",
    "plt.hist(df['price'], bins=50, color='skyblue', edgecolor='black')  # Adjust 'bins' as needed\n",
    "\n",
    "plt.xlabel('Price (£)')\n",
    "plt.ylabel('Frequency')\n",
    "plt.title('Distribution of Product Prices')\n",
    "\n",
    "plt.show()"
   ]
  },
  {
   "cell_type": "markdown",
   "id": "829d745e-16fa-4b67-a594-509e2cd4d6ff",
   "metadata": {},
   "source": [
    "This initial histogram of product prices is very challenging to interpret due to extreme skewness. A third of the items cost less than £45.99, with a few very high prices stretching the distribution. It's possible to addres this by applying a log transformation, which compresses large values and expands smaller ones, making the data spread more evenly. This adjustment allows for clearer visualization of the price distribution, revealing patterns that were previously obscured in the untransformed data. Using a log scale is particularly useful when dealing with data that spans multiple orders of magnitude, as it enhances readability by reducing the impact of outliers."
   ]
  },
  {
   "cell_type": "code",
   "execution_count": 53,
   "id": "badfbc4e-8bcf-48c2-87da-2517e2f376c8",
   "metadata": {},
   "outputs": [
    {
     "data": {
      "image/png": "[encoded data removed]",
      "text/plain": [
       "<Figure size 1000x600 with 1 Axes>"
      ]
     },
     "metadata": {},
     "output_type": "display_data"
    }
   ],
   "source": [
    "plt.figure(figsize=(10, 6))\n",
    "plt.hist(np.log1p(df['price']), bins=50, color='skyblue', edgecolor='black')\n",
    "\n",
    "plt.xlabel('Log of Price (£)')\n",
    "plt.ylabel('Frequency')\n",
    "plt.title('Log-Transformed Distribution of Product Prices')\n",
    "\n",
    "# Define tick locations on the x-axis\n",
    "max_log_price = int(np.log1p(df['price']).max())  # Find the maximum log-transformed value\n",
    "plt.xticks(ticks=np.arange(0, max_log_price + 1, 1))  # Add ticks from 0 to max value at intervals of 1\n",
    "\n",
    "# Set y-axis to scientific notation\n",
    "plt.ticklabel_format(style='scientific', axis='y', scilimits=(0,0))\n",
    "\n",
    "plt.grid(visible=True, which='both', color='gray', linestyle='--', linewidth=0.5, alpha=0.9)\n",
    "plt.show()"
   ]
  },
  {
   "cell_type": "markdown",
   "id": "47ffdfcd-918a-4de8-b360-9e5c4e10dd8d",
   "metadata": {},
   "source": [
    "When using `np.log1p(df['price'])` in a histogram, the x-axis shows log-transformed values, which range from 0 to around 12 in the plot. Each x-axis number represents a logarithmic transformation of actual prices. Here’s how to interpret these values approximately:\n",
    "\n",
    "- **x = 0**: Represents a price of around £0 (since log(1) = 0).\n",
    "- **x = 1**: Represents a price of about £2 (since log(2) ≈ 0.693).\n",
    "- **x = 2**: Represents a price of around £6.39 (since log(7) ≈ 2).\n",
    "- **x = 3**: Represents a price of about £19.08 (since log(20) ≈ 3).\n",
    "- **x = 4**: Represents a price around £54.6 (since log(55) ≈ 4).\n",
    "- **x = 5**: Represents a price near £148 (since log(149) ≈ 5).\n",
    "- **x = 6**: Represents a price of around £403 (since log(404) ≈ 6).\n",
    "- **x = 7**: Represents a price near £1096 (since log(1097) ≈ 7).\n",
    "- **x = 8**: Represents a price around £2981 (since log(2982) ≈ 8).\n",
    "- **x = 9**: Represents a price near £8103 (since log(8104) ≈ 9).\n",
    "- **x = 10**: Represents a price around £22026 (since log(22027) ≈ 10).\n",
    "- **x = 11**: Represents a price of about £59874 (since log(59875) ≈ 11).\n",
    "- **x = 12**: Represents a price near £162755 (since log(162756) ≈ 12).\n",
    "\n",
    "So, each value on the x-axis corresponds to a log-transformed price, meaning that even intervals represent exponential increases in actual prices. This allows you to view the full range of prices, including outliers, without them dominating the plot."
   ]
  },
  {
   "cell_type": "markdown",
   "id": "15b7c231-ef90-4433-8925-9d517e33d87e",
   "metadata": {},
   "source": [
    "Are there products that are priced significantly higher than the rest? Use a box plot to showcase the spread and potential outliers in product pricing."
   ]
  },
  {
   "cell_type": "code",
   "execution_count": 59,
   "id": "acd34194-3db4-4232-92f4-ea29e1f056a6",
   "metadata": {},
   "outputs": [
    {
     "data": {
      "image/png": "[encoded data removed]",
      "text/plain": [
       "<Figure size 1000x600 with 1 Axes>"
      ]
     },
     "metadata": {},
     "output_type": "display_data"
    }
   ],
   "source": [
    "plt.figure(figsize=(10, 6))\n",
    "sns.boxplot(data = np.log1p(df['price']))\n",
    "\n",
    "plt.xlabel('Log of Price (£)')\n",
    "plt.ylabel('Log-Transformed Price (£)')\n",
    "plt.title('Boxplot of Log-Transformed Product Prices')\n",
    "\n",
    "plt.grid(axis='y', linestyle='--', alpha=0.7)\n",
    "max_log_price = int(np.log1p(df['price']).max())  # Find the maximum log-transformed value\n",
    "plt.yticks(ticks=np.arange(0, max_log_price + 1, 1))  # Add ticks from 0 to max value at intervals of 1\n",
    "\n",
    "plt.show()"
   ]
  },
  {
   "cell_type": "markdown",
   "id": "65a33880-0759-4c40-aab0-a37254206809",
   "metadata": {},
   "source": [
    "Yes, there are products priced significantly higher than the rest. The majority of items have prices that range from a log value of 2 (around £7) to 4 (around £54), with the mean for prices within this normal range falling around a log value of 3 (approximately £19). The box plot clearly showcases this spread, highlighting the typical price range, while also revealing some extreme outliers at both the lower and higher ends of the price spectrum.\n",
    "\n",
    "---"
   ]
  },
  {
   "cell_type": "markdown",
   "id": "3f7d7a58-9eda-4f1a-bc46-2fcab7dd5b00",
   "metadata": {},
   "source": [
    "---\n",
    "\n",
    "## Part 3: Unpacking Product Ratings\n",
    "**Business Question**: How do customers rate products on Amazon UK, and are there any patterns or tendencies in the ratings?"
   ]
  },
  {
   "cell_type": "markdown",
   "id": "671c0f4f-4839-4e1e-a6a8-6fa7b784a7af",
   "metadata": {},
   "source": [
    "3.1 | Measures of Centrality:\n",
    "\n",
    "- Calculate the mean, median, and mode for the rating of products.\n",
    "- How do customers generally rate products? Is there a common trend?"
   ]
  },
  {
   "cell_type": "markdown",
   "id": "a26845ac-07e1-470a-80ea-6d729f8051a9",
   "metadata": {},
   "source": [
    "To ensure accurate analysis of customer ratings, I am filtering out products with no reviews. Products without reviews are recorded with a rating of 0 stars, which can significantly skew the data. By focusing on products with actual reviews, I can better understand how customers rate the products and avoid the distortion caused by these unreviewed items. This will provide a clearer picture of customer satisfaction and trends."
   ]
  },
  {
   "cell_type": "code",
   "execution_count": 97,
   "id": "b8c84997-c3ce-4a32-baab-c42c1ea78c5f",
   "metadata": {},
   "outputs": [
    {
     "name": "stdout",
     "output_type": "stream",
     "text": [
      "There are 1127977 products reviewed in Amazon UK\n"
     ]
    }
   ],
   "source": [
    "df2 = df[df['reviews'] > 1] # We select products with at least one review\n",
    "print(f'There are {len(df2)} products reviewed in Amazon UK')"
   ]
  },
  {
   "cell_type": "code",
   "execution_count": 99,
   "id": "1288abd7-e853-47aa-b419-5eaceb286c37",
   "metadata": {},
   "outputs": [
    {
     "name": "stdout",
     "output_type": "stream",
     "text": [
      "The average product rate is 4.3 stars\n"
     ]
    }
   ],
   "source": [
    "stars_mean = df2['stars'].mean().round(1)\n",
    "print(f'The average product rate is {stars_mean} stars')"
   ]
  },
  {
   "cell_type": "code",
   "execution_count": 101,
   "id": "232d1860-b650-4012-8b79-fdb1ee070e70",
   "metadata": {},
   "outputs": [
    {
     "name": "stdout",
     "output_type": "stream",
     "text": [
      "Half the ratings fall within 4.4 stars\n"
     ]
    }
   ],
   "source": [
    "stars_median = df2['stars'].median()\n",
    "print(f'Half the ratings fall within {stars_median} stars')"
   ]
  },
  {
   "cell_type": "code",
   "execution_count": 103,
   "id": "9fa51607-0517-4d77-840c-02c0259fedd3",
   "metadata": {},
   "outputs": [
    {
     "name": "stdout",
     "output_type": "stream",
     "text": [
      "The most popular rating is 4.5 stars\n"
     ]
    }
   ],
   "source": [
    "stars_mode = df2['stars'].mode()[0]\n",
    "print(f'The most popular rating is {stars_mode} stars')"
   ]
  },
  {
   "cell_type": "markdown",
   "id": "c5499718-5b7e-4ee8-992d-14a966252f7f",
   "metadata": {},
   "source": [
    "This is a **strong positive trend**, with an average rating of 4.3 out of 5. The majority of ratings fall between 4.1 and 4.6, suggesting that most customers are satisfied with their purchases. The data reveals a concentration in the upper range, reflecting overall satisfaction with the products."
   ]
  },
  {
   "cell_type": "markdown",
   "id": "1729b947-0ed3-4eff-870f-19cd5fa24ae9",
   "metadata": {},
   "source": [
    "3.2 | Measures of Dispersion:\n",
    "\n",
    "- Determine the variance, standard deviation, and interquartile range for product rating.\n",
    "- Are the ratings consistent, or is there a wide variation in customer feedback?"
   ]
  },
  {
   "cell_type": "code",
   "execution_count": 109,
   "id": "d694e89d-f7d5-47e0-aa80-045362ced78a",
   "metadata": {},
   "outputs": [
    {
     "name": "stdout",
     "output_type": "stream",
     "text": [
      "Variance is 0.2 stars\n"
     ]
    }
   ],
   "source": [
    "print(f'Variance is {round(df2['stars'].var(), 1)} stars')"
   ]
  },
  {
   "cell_type": "code",
   "execution_count": 112,
   "id": "99e00387-79ea-4460-93c5-b8dc8b206a92",
   "metadata": {},
   "outputs": [
    {
     "name": "stdout",
     "output_type": "stream",
     "text": [
      "The ratings vary more or less 0.5 stars\n"
     ]
    }
   ],
   "source": [
    "print(f'The ratings vary more or less {round(df2['stars'].std(), 1)} stars')"
   ]
  },
  {
   "cell_type": "code",
   "execution_count": 111,
   "id": "d62db222-2bc7-43d0-b5c2-0cdbc172bea7",
   "metadata": {},
   "outputs": [
    {
     "name": "stdout",
     "output_type": "stream",
     "text": [
      "First quartile is 4.1 stars\n",
      "Third quartile is 4.6 stars\n"
     ]
    }
   ],
   "source": [
    "print(f'First quartile is {round(df2['stars'].quantile(0.25), 1)} stars')\n",
    "print(f'Third quartile is {round(df2['stars'].quantile(0.75), 1)} stars')"
   ]
  },
  {
   "cell_type": "markdown",
   "id": "8e2a8595-1f59-4ed5-aa1b-08536a106960",
   "metadata": {},
   "source": [
    "Ratings are **consistent**, suggesting that **there is not a wide variation in customer feedback**. Most ratings are close to the average rating."
   ]
  },
  {
   "cell_type": "markdown",
   "id": "395e1cc9-b43e-449b-9083-576af0dd33b5",
   "metadata": {},
   "source": [
    "3.3 | Shape of the Distribution:\n",
    "\n",
    "- Calculate the skewness and kurtosis for the rating column.\n",
    "- Are the ratings normally distributed, or do they lean towards higher or lower values?"
   ]
  },
  {
   "cell_type": "code",
   "execution_count": null,
   "id": "6d9ef46b-aa2a-442b-87ea-eee8ba08ab85",
   "metadata": {},
   "outputs": [],
   "source": []
  }
 ],
 "metadata": {
  "kernelspec": {
   "display_name": "Python 3 (ipykernel)",
   "language": "python",
   "name": "python3"
  },
  "language_info": {
   "codemirror_mode": {
    "name": "ipython",
    "version": 3
   },
   "file_extension": ".py",
   "mimetype": "text/x-python",
   "name": "python",
   "nbconvert_exporter": "python",
   "pygments_lexer": "ipython3",
   "version": "3.12.4"
  }
 },
 "nbformat": 4,
 "nbformat_minor": 5
}
